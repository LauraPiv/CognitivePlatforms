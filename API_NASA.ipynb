{
  "nbformat": 4,
  "nbformat_minor": 0,
  "metadata": {
    "colab": {
      "provenance": [],
      "toc_visible": true
    },
    "kernelspec": {
      "name": "python3",
      "display_name": "Python 3"
    },
    "language_info": {
      "name": "python"
    }
  },
  "cells": [
    {
      "cell_type": "code",
      "execution_count": 7,
      "metadata": {
        "colab": {
          "base_uri": "https://localhost:8080/"
        },
        "id": "G0srYT487dS7",
        "outputId": "5587fe71-d000-4834-994a-cac227a8bb1d"
      },
      "outputs": [
        {
          "output_type": "stream",
          "name": "stdout",
          "text": [
            "Imagem 1 http://mars.nasa.gov/mer/gallery/all/2/f/2024/2F306051286EFFB1E5P1110L0M1-BR.JPG\n",
            "Imagem 2 http://mars.nasa.gov/mer/gallery/all/2/f/2024/2F306051286EFFB1E5P1110R0M1-BR.JPG\n",
            "Imagem 3 http://mars.nasa.gov/mer/gallery/all/2/f/2024/2F306051566EFFB1E5P1110L0M1-BR.JPG\n",
            "Imagem 4 http://mars.nasa.gov/mer/gallery/all/2/f/2024/2F306051566EFFB1E5P1110R0M1-BR.JPG\n",
            "Imagem 5 http://mars.nasa.gov/mer/gallery/all/2/f/2024/2F306052111EFFB1E5P1110L0M1-BR.JPG\n",
            "Imagem 6 http://mars.nasa.gov/mer/gallery/all/2/f/2024/2F306052111EFFB1E5P1110R0M1-BR.JPG\n",
            "Imagem 7 http://mars.nasa.gov/mer/gallery/all/2/f/2024/2F306052194EDNB1E5P1121L0M1-BR.JPG\n",
            "Imagem 8 http://mars.nasa.gov/mer/gallery/all/2/f/2024/2F306052194EDNB1E5P1121R0M1-BR.JPG\n",
            "Imagem 9 http://mars.nasa.gov/mer/gallery/all/2/p/2024/2P306048453ESFB1E5P2601L8M1-BR.JPG\n",
            "Imagem 10 http://mars.nasa.gov/mer/gallery/all/2/p/2024/2P306048453ESFB1E5P2601R8M1-BR.JPG\n",
            "Imagem 11 http://mars.nasa.gov/mer/gallery/all/2/p/2024/2P306058646ESFB1E5P2601L8M1-BR.JPG\n",
            "Imagem 12 http://mars.nasa.gov/mer/gallery/all/2/p/2024/2P306058646ESFB1E5P2601R8M1-BR.JPG\n",
            "Imagem 13 http://mars.nasa.gov/mer/gallery/all/2/m/2024/2M306051245EFFB1E5P2936M2M1-BR.JPG\n",
            "Imagem 14 http://mars.nasa.gov/mer/gallery/all/2/m/2024/2M306051539EFFB1E5P2936M2M1-BR.JPG\n",
            "Imagem 15 http://mars.nasa.gov/mer/gallery/all/2/m/2024/2M306051847EFFB1E5P2976M2M1-BR.JPG\n",
            "Imagem 16 http://mars.nasa.gov/mer/gallery/all/2/m/2024/2M306051877EFFB1E5P2976M2M1-BR.JPG\n",
            "Imagem 17 http://mars.nasa.gov/mer/gallery/all/2/m/2024/2M306051907EFFB1E5P2956M2M1-BR.JPG\n",
            "Imagem 18 http://mars.nasa.gov/mer/gallery/all/2/m/2024/2M306051937EFFB1E5P2936M2M1-BR.JPG\n",
            "Imagem 19 http://mars.nasa.gov/mer/gallery/all/2/m/2024/2M306051966EFFB1E5P2956M2M1-BR.JPG\n",
            "Imagem 20 http://mars.nasa.gov/mer/gallery/all/2/m/2024/2M306051999EFFB1E5P2956M2M1-BR.JPG\n",
            "Imagem 21 http://mars.nasa.gov/mer/gallery/all/2/m/2024/2M306052029EFFB1E5P2976M2M1-BR.JPG\n",
            "Imagem 22 http://mars.nasa.gov/mer/gallery/all/2/m/2024/2M306052029EFFB1E5P2976M2M2-BR.JPG\n",
            "Imagem 23 http://mars.nasa.gov/mer/gallery/all/2/m/2024/2M306052029EFFB1E5P2976M2M3-BR.JPG\n",
            "Imagem 24 http://mars.nasa.gov/mer/gallery/all/2/m/2024/2M306052069EFFB1E5P2976M2M1-BR.JPG\n"
          ]
        }
      ],
      "source": [
        "import requests\n",
        "cont=1\n",
        "resposta = requests.get('https://api.nasa.gov/mars-photos/api/v1/rovers/spirit/photos?sol=2024&api_key=7ev4d3l9ex8rtMrRkJ3prggiLLfWVt2O3FPuN0cA')\n",
        "resposta.json()\n",
        "if resposta.status_code == 200:\n",
        "    dados_json = resposta.json()\n",
        "    if 'photos' in dados_json:\n",
        "        for foto in dados_json['photos']:\n",
        "            print(\"Imagem\", cont, foto['img_src'])\n",
        "            cont+=1\n",
        "    else:\n",
        "        print(\"Nenhuma foto encontrada.\")\n",
        "else:\n",
        "    print(\"Falha na solicitação. Código de status:\", resposta.status_code)\n"
      ]
    },
    {
      "cell_type": "code",
      "source": [],
      "metadata": {
        "id": "fY8Ve6b5FNe1"
      },
      "execution_count": null,
      "outputs": []
    }
  ]
}
