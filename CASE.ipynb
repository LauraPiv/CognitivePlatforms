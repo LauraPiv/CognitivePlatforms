{
  "nbformat": 4,
  "nbformat_minor": 0,
  "metadata": {
    "colab": {
      "provenance": [],
      "authorship_tag": "ABX9TyP7jqUUk/lAn5WHS1LBfIBl",
      "include_colab_link": true
    },
    "kernelspec": {
      "name": "python3",
      "display_name": "Python 3"
    },
    "language_info": {
      "name": "python"
    }
  },
  "cells": [
    {
      "cell_type": "markdown",
      "metadata": {
        "id": "view-in-github",
        "colab_type": "text"
      },
      "source": [
        "<a href=\"https://colab.research.google.com/github/LauraPiv/Plataformas-Cognitivas/blob/main/CASE.ipynb\" target=\"_parent\"><img src=\"https://colab.research.google.com/assets/colab-badge.svg\" alt=\"Open In Colab\"/></a>"
      ]
    },
    {
      "cell_type": "code",
      "execution_count": 1,
      "metadata": {
        "id": "qYddf9KnMnED"
      },
      "outputs": [],
      "source": [
        "import matplotlib.pyplot as plt"
      ]
    },
    {
      "cell_type": "code",
      "source": [
        "def grafico(x:list,y:list):\n",
        "    plt.plot(x,y,marker='o',linestyle='-')\n",
        "    plt.xlabel('Ano')\n",
        "    plt.ylabel('Vendas')\n",
        "    plt.title('Vendas de Pirozhki ao longo dos anos')\n",
        "    plt.grid(True)\n",
        "    plt.show()\n",
        "\n",
        "#criando um gráfico a partir de uma tabela\n",
        "x_ano = [2010,2011,2012,2014,2017,2018,2019]\n",
        "y_vendas  = [723,814,905,1087,1360,1451,1542]\n",
        "grafico(x_ano,y_vendas)\n",
        "\n",
        "#Qual coeficiente angular\n",
        "coef_angular = (814 - 723) / (2011 - 2010)\n",
        "print(\"Coeficiente angular:\", coef_angular)\n",
        "\n",
        "#calcular vendas do ano desejado\n",
        "ano_desejado = int(input(\"Ano desejado para a previsão das vendas: \"))\n",
        "x_ano.append(ano_desejado)\n",
        "\n",
        "vendas_desejado = (ano_desejado - 2010) * coef_angular + 723\n",
        "y_vendas.append(vendas_desejado)\n",
        "\n",
        "print(vendas_desejado)\n",
        "\n",
        "grafico(x_ano,y_vendas)"
      ],
      "metadata": {
        "id": "QIVwzBdPMs06"
      },
      "execution_count": null,
      "outputs": []
    }
  ]
}